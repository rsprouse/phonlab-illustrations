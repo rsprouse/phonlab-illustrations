{
 "cells": [
  {
   "cell_type": "code",
   "execution_count": 1,
   "metadata": {},
   "outputs": [],
   "source": [
    "import parselmouth\n",
    "import librosa, librosa.display\n",
    "import numpy as np\n",
    "import matplotlib.pyplot as plt\n",
    "%matplotlib inline"
   ]
  },
  {
   "cell_type": "code",
   "execution_count": 2,
   "metadata": {},
   "outputs": [],
   "source": [
    "monofile = '../resources/two_plus_two_22.wav'   # Mono recording\n",
    "stereofile = '../resources/two_plus_two_22.stereo.wav'  # Stereo recording (channels identical)\n",
    "stereorevfile = '../resources/two_plus_two_22.stereo.rev.wav'  # Stereo recording (one channel reverse of other)"
   ]
  },
  {
   "cell_type": "markdown",
   "metadata": {},
   "source": [
    "# Exploration of libROSA and Parselmouth\n",
    "\n",
    "This notebook explores the [libROSA](https://librosa.github.io/librosa/index.html#) and [Parselmouth](https://github.com/YannickJadoul/Parselmouth) Python libraries and illustrates how to perform basic operations in each.\n",
    "\n",
    "In short, libROSA is a music and audio library. It loads audio as numpy arrays and provides a number of analysis functions that operate on array inputs.\n",
    "\n",
    "Parselmouth is a Python interface that makes Praat C/C++ internals accessible to Python code. Praat objects are created as Python objects, and Praat functions are accessed as methods called on the objects.\n",
    "\n",
    "It is possible to mix library usage. The sampled data in a Parselmouth Sound object can be accessed as a numpy array, which allows it to be used with libROSA and many other Python libraries. Data can flow in the opposite direction--a Sound object can be created by passing a numpy array of audio data and the sample rate to `parselmouth.Sound()`."
   ]
  },
  {
   "cell_type": "markdown",
   "metadata": {},
   "source": [
    "# libROSA load()\n",
    "\n",
    "Load an audio file in libROSA with [load()](https://librosa.github.io/librosa/generated/librosa.core.load.html#librosa.core.load), which returns a numpy ndarray of data and the sample rate in a tuple. **`load()` automatically resamples the audio file to the value of the `sr` input parameter (default 22050).** Set `sr` to `None` to avoid resampling."
   ]
  },
  {
   "cell_type": "code",
   "execution_count": 3,
   "metadata": {},
   "outputs": [
    {
     "name": "stdout",
     "output_type": "stream",
     "text": [
      "22050 <class 'numpy.ndarray'> (48510,) [ 0.00080034  0.00059939  0.00022201 ... -0.00144185 -0.00148943\n",
      " -0.00082987]\n",
      "11025 <class 'numpy.ndarray'> (24255,) [ 0.00072749  0.00029601  0.00050131 ... -0.001079   -0.00106304\n",
      " -0.00142548]\n",
      "12000 <class 'numpy.ndarray'> (26400,) [ 0.00082397  0.00024414  0.00048828 ... -0.00100708 -0.00109863\n",
      " -0.00146484]\n"
     ]
    }
   ],
   "source": [
    "rsnd, sr = librosa.load(monofile)               # default resample rate\n",
    "print(sr, type(rsnd), rsnd.shape, rsnd)\n",
    "rsnd, sr = librosa.load(monofile, sr=11025)     # explicit resample rate\n",
    "print(sr, type(rsnd), rsnd.shape, rsnd)\n",
    "rsnd, sr = librosa.load(monofile, sr=None)      # no resampling\n",
    "print(sr, type(rsnd), rsnd.shape, rsnd)"
   ]
  },
  {
   "cell_type": "markdown",
   "metadata": {},
   "source": [
    "**`load()` converts to mono by default** (apparently by averaging channels). Set the `mono` parameter to `False` to keep the channels separate."
   ]
  },
  {
   "cell_type": "code",
   "execution_count": 4,
   "metadata": {},
   "outputs": [
    {
     "name": "stdout",
     "output_type": "stream",
     "text": [
      "12000 <class 'numpy.ndarray'> (26400,) [ 0.00082397  0.00024414  0.00048828 ... -0.00100708 -0.00109863\n",
      " -0.00146484]\n",
      "12000 <class 'numpy.ndarray'> (2, 26400) [[ 0.00082397  0.00024414  0.00048828 ... -0.00100708 -0.00109863\n",
      "  -0.00146484]\n",
      " [ 0.00082397  0.00024414  0.00048828 ... -0.00100708 -0.00109863\n",
      "  -0.00146484]]\n"
     ]
    }
   ],
   "source": [
    "stereo, stereo_sr = librosa.load(stereofile, sr=None)\n",
    "print(stereo_sr, type(stereo), stereo.shape, stereo)\n",
    "stereo, stereo_sr = librosa.load(stereofile, mono=False, sr=None)\n",
    "print(stereo_sr, type(stereo), stereo.shape, stereo)"
   ]
  },
  {
   "cell_type": "markdown",
   "metadata": {},
   "source": [
    "Notice that libROSA returns mono data as a 1D numpy array, and stereo data is a 2D array with the channels stored as rows."
   ]
  },
  {
   "cell_type": "code",
   "execution_count": 5,
   "metadata": {},
   "outputs": [
    {
     "name": "stdout",
     "output_type": "stream",
     "text": [
      "(26400,)\n",
      "(2, 26400)\n"
     ]
    }
   ],
   "source": [
    "print(rsnd.shape)\n",
    "print(stereo.shape)"
   ]
  },
  {
   "cell_type": "markdown",
   "metadata": {},
   "source": [
    "**Load a portion of the audio**\n",
    "\n",
    "Use `offset` and `duration` to load only a specific portion of the audio file. This can be used to reduce memory usage when accessing long audio files; load only what you need."
   ]
  },
  {
   "cell_type": "code",
   "execution_count": 6,
   "metadata": {},
   "outputs": [
    {
     "data": {
      "text/plain": [
       "1.0"
      ]
     },
     "execution_count": 6,
     "metadata": {},
     "output_type": "execute_result"
    }
   ],
   "source": [
    "short, short_sr = librosa.load(monofile, sr=None, offset=0.5, duration=1.0)\n",
    "librosa.get_duration(short, sr=short_sr)"
   ]
  },
  {
   "cell_type": "markdown",
   "metadata": {},
   "source": [
    "## Plotting a waveform\n",
    "\n",
    "The [waveplot()](https://librosa.github.io/librosa/generated/librosa.display.waveplot.html#librosa.display.waveplot) function creates a matplotlib plot of the waveform."
   ]
  },
  {
   "cell_type": "code",
   "execution_count": 7,
   "metadata": {},
   "outputs": [
    {
     "data": {
      "text/plain": [
       "<matplotlib.collections.PolyCollection at 0x7f2f46684c18>"
      ]
     },
     "execution_count": 7,
     "metadata": {},
     "output_type": "execute_result"
    },
    {
     "data": {
      "image/png": "[encoded data removed]",
      "text/plain": [
       "<Figure size 432x288 with 1 Axes>"
      ]
     },
     "metadata": {
      "needs_background": "light"
     },
     "output_type": "display_data"
    }
   ],
   "source": [
    "librosa.display.waveplot(rsnd, sr)"
   ]
  },
  {
   "cell_type": "markdown",
   "metadata": {},
   "source": [
    "## Parselmouth Sound\n",
    "\n",
    "An audio file can be loaded in Parselmouth by passing the filename to `Sound()` on initialization."
   ]
  },
  {
   "cell_type": "code",
   "execution_count": 8,
   "metadata": {},
   "outputs": [
    {
     "name": "stdout",
     "output_type": "stream",
     "text": [
      "<class 'parselmouth.Sound'>\n",
      "Object type: Sound\n",
      "Object name: <no name>\n",
      "Date: Mon Feb  4 18:42:11 2019\n",
      "\n",
      "Number of channels: 1 (mono)\n",
      "Time domain:\n",
      "   Start time: 0 seconds\n",
      "   End time: 2.2 seconds\n",
      "   Total duration: 2.2 seconds\n",
      "Time sampling:\n",
      "   Number of samples: 26400\n",
      "   Sampling period: 8.333333333333333e-05 seconds\n",
      "   Sampling frequency: 12000 Hz\n",
      "   First sample centred at: 4.1666666666666665e-05 seconds\n",
      "Amplitude:\n",
      "   Minimum: -0.727813721 Pascal\n",
      "   Maximum: 0.719146729 Pascal\n",
      "   Mean: -0.000320011486 Pascal\n",
      "   Root-mean-square: 0.123063992 Pascal\n",
      "Total energy: 0.0333184416 Pascal² sec (energy in air: 8.32961039e-05 Joule/m²)\n",
      "Mean power (intensity) in air: 3.78618654e-05 Watt/m² = 75.78 dB\n",
      "Standard deviation in channel 1: 0.123065907 Pascal\n",
      "\n"
     ]
    }
   ],
   "source": [
    "psnd = parselmouth.Sound(monofile)\n",
    "print('{:}\\n{:}'.format(type(psnd), psnd))"
   ]
  },
  {
   "cell_type": "markdown",
   "metadata": {},
   "source": [
    "A Sound object can access any of the Praat algorithms that operate on Sounds, and usually the method name is easily mapped to the algorithm name found in Praat's Sound menu. For example, the 'To Pitch...' algorithm is accessed as the method name `to_pitch()`."
   ]
  },
  {
   "cell_type": "code",
   "execution_count": 9,
   "metadata": {},
   "outputs": [
    {
     "data": {
      "text/plain": [
       "<parselmouth.Pitch at 0x7f2f48713420>"
      ]
     },
     "execution_count": 9,
     "metadata": {},
     "output_type": "execute_result"
    }
   ],
   "source": [
    "psnd.to_pitch()"
   ]
  },
  {
   "cell_type": "markdown",
   "metadata": {},
   "source": [
    "A list of methods available for Sound objects is displayed in the next cell."
   ]
  },
  {
   "cell_type": "code",
   "execution_count": 10,
   "metadata": {},
   "outputs": [
    {
     "name": "stdout",
     "output_type": "stream",
     "text": [
      "FileFormat\n",
      "ToHarmonicityMethod\n",
      "ToPitchMethod\n",
      "add\n",
      "as_array\n",
      "at_xy\n",
      "autocorrelate\n",
      "centre_time\n",
      "class_name\n",
      "combine_to_stereo\n",
      "concatenate\n",
      "convert_to_mono\n",
      "convert_to_stereo\n",
      "convolve\n",
      "copy\n",
      "cross_correlate\n",
      "de_emphasize\n",
      "deepen_band_modulation\n",
      "divide\n",
      "dt\n",
      "duration\n",
      "dx\n",
      "dy\n",
      "end_time\n",
      "extract_all_channels\n",
      "extract_channel\n",
      "extract_left_channel\n",
      "extract_part\n",
      "extract_part_for_overlap\n",
      "extract_right_channel\n",
      "formula\n",
      "frame_number_to_time\n",
      "full_name\n",
      "get_column_distance\n",
      "get_end_time\n",
      "get_energy\n",
      "get_energy_in_air\n",
      "get_frame_number_from_time\n",
      "get_highest_x\n",
      "get_highest_y\n",
      "get_index_from_time\n",
      "get_intensity\n",
      "get_lowest_x\n",
      "get_lowest_y\n",
      "get_maximum\n",
      "get_minimum\n",
      "get_nearest_zero_crossing\n",
      "get_number_of_channels\n",
      "get_number_of_columns\n",
      "get_number_of_frames\n",
      "get_number_of_rows\n",
      "get_number_of_samples\n",
      "get_power\n",
      "get_power_in_air\n",
      "get_rms\n",
      "get_root_mean_square\n",
      "get_row_distance\n",
      "get_sampling_frequency\n",
      "get_sampling_period\n",
      "get_start_time\n",
      "get_sum\n",
      "get_time_from_frame_number\n",
      "get_time_from_index\n",
      "get_time_step\n",
      "get_total_duration\n",
      "get_value\n",
      "get_value_at_xy\n",
      "get_value_in_cell\n",
      "get_x_of_column\n",
      "get_y_of_row\n",
      "lengthen\n",
      "multiply\n",
      "multiply_by_window\n",
      "n_channels\n",
      "n_columns\n",
      "n_frames\n",
      "n_rows\n",
      "n_samples\n",
      "name\n",
      "nt\n",
      "nx\n",
      "ny\n",
      "override_sampling_frequency\n",
      "pre_emphasize\n",
      "read\n",
      "resample\n",
      "reverse\n",
      "sampling_frequency\n",
      "sampling_period\n",
      "save\n",
      "save_as_binary_file\n",
      "save_as_headerless_spreadsheet_file\n",
      "save_as_matrix_text_file\n",
      "save_as_short_text_file\n",
      "save_as_text_file\n",
      "scale\n",
      "scale_intensity\n",
      "scale_peak\n",
      "scale_times_by\n",
      "scale_times_to\n",
      "scale_x_by\n",
      "scale_x_to\n",
      "set_to_zero\n",
      "set_value\n",
      "shift_times_by\n",
      "shift_times_to\n",
      "shift_x_by\n",
      "shift_x_to\n",
      "start_time\n",
      "subtract\n",
      "subtract_mean\n",
      "t1\n",
      "t_bins\n",
      "t_grid\n",
      "time_range\n",
      "time_step\n",
      "time_to_frame_number\n",
      "tmax\n",
      "tmin\n",
      "to_formant_burg\n",
      "to_harmonicity\n",
      "to_harmonicity_ac\n",
      "to_harmonicity_cc\n",
      "to_harmonicity_gne\n",
      "to_intensity\n",
      "to_mfcc\n",
      "to_pitch\n",
      "to_pitch_ac\n",
      "to_pitch_cc\n",
      "to_pitch_shs\n",
      "to_pitch_spinet\n",
      "to_spectrogram\n",
      "to_spectrum\n",
      "total_duration\n",
      "trange\n",
      "ts\n",
      "values\n",
      "x1\n",
      "x_bins\n",
      "x_grid\n",
      "xmax\n",
      "xmin\n",
      "xrange\n",
      "xs\n",
      "y1\n",
      "y_bins\n",
      "y_grid\n",
      "ymax\n",
      "ymin\n",
      "yrange\n",
      "ys\n"
     ]
    }
   ],
   "source": [
    "print('\\n'.join([name for name in dir(psnd) if not name.startswith('_')]))"
   ]
  },
  {
   "cell_type": "markdown",
   "metadata": {},
   "source": [
    "The data values of a Sound can be accessed as a numpy array via the `values` attribute or the `as_array()` method.\n",
    "\n",
    "(It is not clear to me whether the underlying datatype of a Parselmouth Sound is a numpy array. I think values/as_array() are interfaces to the underlying Praat array instead, which might mean there is some overhead associated with accessing the data as numpy arrays. If there is, let's hope it's negligible.)"
   ]
  },
  {
   "cell_type": "code",
   "execution_count": 11,
   "metadata": {},
   "outputs": [
    {
     "name": "stdout",
     "output_type": "stream",
     "text": [
      "<class 'numpy.ndarray'> [[ 0.00082397  0.00024414  0.00048828 ... -0.00100708 -0.00109863\n",
      "  -0.00146484]]\n",
      "<class 'numpy.ndarray'> [[ 0.00082397  0.00024414  0.00048828 ... -0.00100708 -0.00109863\n",
      "  -0.00146484]]\n"
     ]
    }
   ],
   "source": [
    "print(type(psnd.values), psnd.values[:5])\n",
    "print(type(psnd.as_array()), psnd.as_array()[:5])"
   ]
  },
  {
   "cell_type": "markdown",
   "metadata": {},
   "source": [
    "Viewing Sound data as a numpy array has an important difference when compared to the numpy array returned by libROSA's `load()`--the Sound data is always 2D, even for mono audio. Compare:"
   ]
  },
  {
   "cell_type": "code",
   "execution_count": 12,
   "metadata": {},
   "outputs": [
    {
     "name": "stdout",
     "output_type": "stream",
     "text": [
      "(26400,)\n",
      "(1, 26400)\n",
      "(2, 26400)\n",
      "(2, 26400)\n"
     ]
    }
   ],
   "source": [
    "print(rsnd.shape)   # mono audio from libROSA's load()\n",
    "print(psnd.values.shape)  # mono audio from Parselmouth's Sound\n",
    "print(stereo.shape)  # stereo audio from libROSA's load()\n",
    "print(parselmouth.Sound(stereofile).values.shape) # stereo audio from Parselmouth's Sound"
   ]
  },
  {
   "cell_type": "markdown",
   "metadata": {},
   "source": [
    "Some Sound methods have numpy (near-) equivalents."
   ]
  },
  {
   "cell_type": "code",
   "execution_count": 13,
   "metadata": {},
   "outputs": [
    {
     "name": "stdout",
     "output_type": "stream",
     "text": [
      "Sound max  0.719146728515625\n",
      "numpy max  0.719146728515625\n",
      "Sound min  -0.727813720703125\n",
      "numpy min  -0.727813720703125\n"
     ]
    }
   ],
   "source": [
    "print('Sound max ', psnd.get_maximum())   # Praat\n",
    "print('numpy max ', psnd.values.max())    # numpy\n",
    "print('Sound min ', psnd.get_minimum())   # Praat\n",
    "print('numpy min ', psnd.values.min())    # numpy"
   ]
  },
  {
   "cell_type": "markdown",
   "metadata": {},
   "source": [
    "Note, however, that Praat's 'Get maximum' help page describes a number of interpolation strategies that alter precision of the returned value. The numpy `max()` method returns the maximum value with no interpolation. It appears that the Parselmouth `get_maximum()` defaults to Praat's Interpolation=None setting, which is not the default setting when calling 'Get maximum' in Praat itself."
   ]
  },
  {
   "cell_type": "markdown",
   "metadata": {},
   "source": [
    "## Plotting a waveform\n",
    "\n",
    "Parselmouth does not include Praat's GUI elements and does not do plotting. You can access the data in a Sound object and plot it with matplotlib."
   ]
  },
  {
   "cell_type": "code",
   "execution_count": 14,
   "metadata": {},
   "outputs": [
    {
     "data": {
      "text/plain": [
       "[<matplotlib.lines.Line2D at 0x7f2f463931d0>]"
      ]
     },
     "execution_count": 14,
     "metadata": {},
     "output_type": "execute_result"
    },
    {
     "data": {
      "image/png": "[encoded data removed]",
      "text/plain": [
       "<Figure size 432x288 with 1 Axes>"
      ]
     },
     "metadata": {
      "needs_background": "light"
     },
     "output_type": "display_data"
    }
   ],
   "source": [
    "plt.plot(psnd.xs(), psnd.values.T)"
   ]
  },
  {
   "cell_type": "markdown",
   "metadata": {},
   "source": [
    "In the plot above, the `xs()` method retrieves the sample times as an array from the Sound object for use as the X axis. This array is a 1D numpy array."
   ]
  },
  {
   "cell_type": "code",
   "execution_count": 15,
   "metadata": {},
   "outputs": [
    {
     "name": "stdout",
     "output_type": "stream",
     "text": [
      "<class 'numpy.ndarray'>\n",
      "(26400,)\n"
     ]
    }
   ],
   "source": [
    "print(type(psnd.xs()))\n",
    "print(psnd.xs().shape)"
   ]
  },
  {
   "cell_type": "markdown",
   "metadata": {},
   "source": [
    "The Y values are the sample values retrieved by the `values` attribute. Since `values` returns a 2D array with the channels in the first dimension, it is necessary to transpose them so that the first dimension contains the sample data. This tranposition makes the shapes of the X and Y axes compatible. An alternative to transposing is to [`squeeze()`](https://docs.scipy.org/doc/numpy-1.9.0/reference/generated/numpy.squeeze.html) the singular dimension out of the 2D array."
   ]
  },
  {
   "cell_type": "code",
   "execution_count": 16,
   "metadata": {},
   "outputs": [
    {
     "name": "stdout",
     "output_type": "stream",
     "text": [
      "(1, 26400)\n",
      "(26400, 1)\n",
      "(26400,)\n"
     ]
    }
   ],
   "source": [
    "print(psnd.values.shape)   # channels, samples; not compatible with xs()\n",
    "print(psnd.values.T.shape) # transposed samples, channels; compatible with xs()\n",
    "print(psnd.values.squeeze().shape)  # alternative to transposing"
   ]
  },
  {
   "cell_type": "markdown",
   "metadata": {},
   "source": [
    "# Mixing libraries\n",
    "\n",
    "The examples in this section show how to mix libROSA and Parselmouth. In reality, any numpy data (like that loaded with [scipy.io.wavfile.read](https://docs.scipy.org/doc/scipy-0.14.0/reference/generated/scipy.io.wavfile.read.html)) can also be mixed with either library.\n",
    "\n",
    "## Create a Sound object with data loaded by libROSA\n",
    "\n",
    "Audio data loaded with `load()` can be used to instantiate a Parselmouth Sound object. Pass the data and sample rate in the call to `Sound()`. As noted earlier, `load()` returns a 1D array for a mono audio file whereas the mono data in a Sound object is in a 2D array. "
   ]
  },
  {
   "cell_type": "code",
   "execution_count": 17,
   "metadata": {},
   "outputs": [
    {
     "name": "stdout",
     "output_type": "stream",
     "text": [
      "(12000,)\n",
      "(1, 12000)\n"
     ]
    }
   ],
   "source": [
    "data, rate = librosa.load(monofile, sr=None, offset=0.5, duration=1.0)\n",
    "fromrosa = parselmouth.Sound(data, rate)\n",
    "print(data.shape)\n",
    "print(fromrosa.values.shape)"
   ]
  },
  {
   "cell_type": "markdown",
   "metadata": {},
   "source": [
    "The Sound object created from a numpy array has the same methods available to it as if it had been loaded directly from a file."
   ]
  },
  {
   "cell_type": "code",
   "execution_count": 18,
   "metadata": {},
   "outputs": [
    {
     "data": {
      "text/plain": [
       "<parselmouth.Pitch at 0x7f2f46630a78>"
      ]
     },
     "execution_count": 18,
     "metadata": {},
     "output_type": "execute_result"
    }
   ],
   "source": [
    "fromrosa.to_pitch()"
   ]
  },
  {
   "cell_type": "markdown",
   "metadata": {},
   "source": [
    "## Retrieve a numpy array from data loaded by Parselmouth\n",
    "\n",
    "We have already seen multiple examples of accessing `Sound` data as a numpy array. Use `values` or `as_array()` to access the data. If you want to alter the data you assign to the `values` attribute. Attempting to assign to `as_array()` will fail since you can't assign to a function call. In the following cell the audio data is plotted in blue, then reduced by 50% and replotted in yellow."
   ]
  },
  {
   "cell_type": "code",
   "execution_count": 19,
   "metadata": {},
   "outputs": [
    {
     "data": {
      "text/plain": [
       "[<matplotlib.lines.Line2D at 0x7f2f465ecf98>]"
      ]
     },
     "execution_count": 19,
     "metadata": {},
     "output_type": "execute_result"
    },
    {
     "data": {
      "image/png": "[encoded data removed]",
      "text/plain": [
       "<Figure size 432x288 with 1 Axes>"
      ]
     },
     "metadata": {
      "needs_background": "light"
     },
     "output_type": "display_data"
    }
   ],
   "source": [
    "parsel = parselmouth.Sound(monofile)\n",
    "plt.plot(parsel.xs(), parsel.values.T, color='b')\n",
    "parsel.values *= 0.5\n",
    "plt.plot(parsel.xs(), parsel.values.T, color='y')"
   ]
  }
 ],
 "metadata": {
  "kernelspec": {
   "display_name": "Python 3",
   "language": "python",
   "name": "python3"
  },
  "language_info": {
   "codemirror_mode": {
    "name": "ipython",
    "version": 3
   },
   "file_extension": ".py",
   "mimetype": "text/x-python",
   "name": "python",
   "nbconvert_exporter": "python",
   "pygments_lexer": "ipython3",
   "version": "3.7.2"
  }
 },
 "nbformat": 4,
 "nbformat_minor": 2
}
