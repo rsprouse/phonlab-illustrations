{
 "cells": [
  {
   "cell_type": "markdown",
   "metadata": {},
   "source": [
    "# How to capture the output of command line tools to pandas DataFrames\n",
    "\n",
    "Here's a general problem: How do you run a command line tool and use its output in a script?\n",
    "\n",
    "One useful answer is to use the `subprocess` module to execute the command and then read its output into a pandas DataFrame. We'll illustrate this approach using tools found in the Berkeley Phonetics Machine."
   ]
  },
  {
   "cell_type": "markdown",
   "metadata": {},
   "source": [
    "## Getting started\n",
    "\n",
    "We require three Python modules to perform the tasks, one for running the tools and two for creating DataFrames."
   ]
  },
  {
   "cell_type": "code",
   "execution_count": 124,
   "metadata": {
    "collapsed": true
   },
   "outputs": [],
   "source": [
    "import subprocess       # Used to execute external commands\n",
    "\n",
    "import pandas as pd     # Provides DataFrames\n",
    "from io import StringIO # Converts command outputs to file-like objects\n",
    "                        # that pandas can read."
   ]
  },
  {
   "cell_type": "markdown",
   "metadata": {},
   "source": [
    "The `subprocess` module executes command line tools in the context of a script. In a notebook it is also possible to execute command line tools directly, and in the cells that follow you'll sometimes see a line that begins with `!`. The `!` executes the tool that follows it and displays its output in the cell.\n",
    "\n",
    "This example runs the `ls` command to list the contents of the current directory:"
   ]
  },
  {
   "cell_type": "code",
   "execution_count": null,
   "metadata": {
    "collapsed": false
   },
   "outputs": [],
   "source": [
    "!ls"
   ]
  },
  {
   "cell_type": "markdown",
   "metadata": {},
   "source": [
    "Options and arguments can be provided in the same way as they are at the command line:"
   ]
  },
  {
   "cell_type": "code",
   "execution_count": null,
   "metadata": {
    "collapsed": false
   },
   "outputs": [],
   "source": [
    "!ls -al"
   ]
  },
  {
   "cell_type": "markdown",
   "metadata": {},
   "source": [
    "### Piping the output of one command to the input of another\n",
    "\n",
    "It is possible to combine commands into a series, where the output of one command is used as the input of another command. These series can be used to create more complicated behaviors from a set of simple tools. For example, the `echo` command simply outputs its arguments as a string. Notice in this example that the `\\n` represents the newline character and  the '2' and '1' appear on separate lines:"
   ]
  },
  {
   "cell_type": "code",
   "execution_count": null,
   "metadata": {
    "collapsed": false
   },
   "outputs": [],
   "source": [
    "!echo '2\\n1'"
   ]
  },
  {
   "cell_type": "markdown",
   "metadata": {},
   "source": [
    "Now we'll make things slightly more complicated by piping to the `sort` command, which sorts input lines and prints out the result. The pipe symbol `|` is used to link the output of the first command (aka STDOUT) to the input of the second (aka STDIN), and the two lines produced by `echo` become the input to `sort`:"
   ]
  },
  {
   "cell_type": "code",
   "execution_count": null,
   "metadata": {
    "collapsed": false
   },
   "outputs": [],
   "source": [
    "!echo '2\\n1' | sort"
   ]
  },
  {
   "cell_type": "markdown",
   "metadata": {},
   "source": [
    "The lines are now ordered."
   ]
  },
  {
   "cell_type": "markdown",
   "metadata": {},
   "source": [
    "## ifcformant\n",
    "\n",
    "The first tool we'll look at is `ifcformant`, which performs formant analysis on an input audio file.\n",
    "\n",
    "For a basic description of `ifcformant` see http://linguistics.berkeley.edu/plab/guestwiki/index.php?title=IFC_formant_tracker or do `ifcformant --help`."
   ]
  },
  {
   "cell_type": "markdown",
   "metadata": {},
   "source": [
    "It's always important to understand what kind of outputs your tools create. Execute `ifcformant` directly and observe what it produces."
   ]
  },
  {
   "cell_type": "code",
   "execution_count": null,
   "metadata": {
    "collapsed": false
   },
   "outputs": [],
   "source": [
    "!ifcformant --speaker male --print-header ../resources/two_plus_two.wav"
   ]
  },
  {
   "cell_type": "markdown",
   "metadata": {},
   "source": [
    "As you can see, `ifcformant` creates a table of measurements at 10ms intervals. We use the `--print-header` option to include the names of the columns as the first row of output.\n",
    "\n",
    "The columns are tab-separated by default. See `ifcformant --help` if you want a different separator."
   ]
  },
  {
   "cell_type": "markdown",
   "metadata": {},
   "source": [
    "### Using `subprocess`\n",
    "\n",
    "Now we use the `subprocess` module to execute `ifcformant`. Start by creating a list of arguments. Notice how the command line we used to run `ifcformant` earlier is split into a list of strings, which is what `subprocess` methods will expect. The `ifcformant` command itself is the first item in the list, and its options and arguments follow."
   ]
  },
  {
   "cell_type": "code",
   "execution_count": 115,
   "metadata": {
    "collapsed": false
   },
   "outputs": [
    {
     "data": {
      "text/plain": [
       "['ifcformant',\n",
       " '--speaker',\n",
       " 'male',\n",
       " '--print-header',\n",
       " '../resources/two_plus_two.wav']"
      ]
     },
     "execution_count": 115,
     "metadata": {},
     "output_type": "execute_result"
    }
   ],
   "source": [
    "ifcargs = [\n",
    "    'ifcformant',\n",
    "    '--speaker',\n",
    "    'male',\n",
    "    '--print-header',\n",
    "    '../resources/two_plus_two.wav'\n",
    "]\n",
    "ifcargs"
   ]
  },
  {
   "cell_type": "markdown",
   "metadata": {},
   "source": [
    "The `check_output()` method executes the command defined by `ifcargs` and returns its output, which is stored in `ifcout`."
   ]
  },
  {
   "cell_type": "code",
   "execution_count": 118,
   "metadata": {
    "collapsed": false
   },
   "outputs": [],
   "source": [
    "try:\n",
    "    ifcout = subprocess.check_output(ifcargs)\n",
    "except subprocess.CalledProcessError:\n",
    "    print('ifcformant failed with args ', ifcargs)"
   ]
  },
  {
   "cell_type": "markdown",
   "metadata": {},
   "source": [
    " `check_output()` also raises an error if execution of the external command results in a failure. The try/except blocks print a useful error message if that occurs. Notice what happens when the arguments to ifcformant are not correct."
   ]
  },
  {
   "cell_type": "code",
   "execution_count": 121,
   "metadata": {
    "collapsed": false
   },
   "outputs": [
    {
     "name": "stdout",
     "output_type": "stream",
     "text": [
      "ifcformant failed with args  ['ifcformant', '--speaker', 'male', 'missing_file']\n"
     ]
    }
   ],
   "source": [
    "badargs = ['ifcformant', '--speaker', 'male', 'missing_file']\n",
    "try:\n",
    "    ifcout = subprocess.check_output(badargs)\n",
    "except subprocess.CalledProcessError:\n",
    "    print('ifcformant failed with args ', badargs)"
   ]
  },
  {
   "cell_type": "markdown",
   "metadata": {},
   "source": [
    "### Reading into a DataFrame\n",
    "\n",
    "The pandas `read_csv()` method is used to read tabular text data into a DataFrame. Often it reads from a real text file, but it can also read from any file-like object. The output captured from `ifcformant` is a series of bytes, which can be converted to a string with `decode()`, and `StringIO` turns a string into a file-like object (one that responds to the `read()` method)."
   ]
  },
  {
   "cell_type": "code",
   "execution_count": null,
   "metadata": {
    "collapsed": false
   },
   "outputs": [],
   "source": [
    "df = pd.read_csv(\n",
    "    StringIO(                  # make file-like\n",
    "        ifcout.decode('ascii') # convert to string; utf-8 also works\n",
    "    ),\n",
    "    sep='\\t'\n",
    ")"
   ]
  },
  {
   "cell_type": "markdown",
   "metadata": {},
   "source": [
    "When you run external processes with `subprocess` you should *always* check to see whether the command was successful. Now that the output of `ifcformant` has been captured, we use `communicate()` to wait for the process to end, then check its returncode. Standard behavior is for a process to return 0 for success and non-zero values indicate an error.  "
   ]
  },
  {
   "cell_type": "code",
   "execution_count": 122,
   "metadata": {
    "collapsed": false
   },
   "outputs": [
    {
     "ename": "ValueError",
     "evalue": "read of closed file",
     "output_type": "error",
     "traceback": [
      "\u001b[1;31m---------------------------------------------------------------------------\u001b[0m",
      "\u001b[1;31mValueError\u001b[0m                                Traceback (most recent call last)",
      "\u001b[1;32m<ipython-input-122-aff177c510fa>\u001b[0m in \u001b[0;36m<module>\u001b[1;34m()\u001b[0m\n\u001b[1;32m----> 1\u001b[1;33m \u001b[0mifcproc\u001b[0m\u001b[1;33m.\u001b[0m\u001b[0mcommunicate\u001b[0m\u001b[1;33m(\u001b[0m\u001b[1;33m)\u001b[0m\u001b[1;33m\u001b[0m\u001b[0m\n\u001b[0m\u001b[0;32m      2\u001b[0m \u001b[1;32mif\u001b[0m \u001b[0mifcproc\u001b[0m\u001b[1;33m.\u001b[0m\u001b[0mreturncode\u001b[0m \u001b[1;33m!=\u001b[0m \u001b[1;36m0\u001b[0m\u001b[1;33m:\u001b[0m\u001b[1;33m\u001b[0m\u001b[0m\n\u001b[0;32m      3\u001b[0m     \u001b[0mprint\u001b[0m\u001b[1;33m(\u001b[0m\u001b[1;34m'ERROR running ifcformant with args '\u001b[0m\u001b[1;33m,\u001b[0m \u001b[0mifcargs\u001b[0m\u001b[1;33m)\u001b[0m\u001b[1;33m\u001b[0m\u001b[0m\n",
      "\u001b[1;32m/home/ubuntu/miniconda3/lib/python3.5/subprocess.py\u001b[0m in \u001b[0;36mcommunicate\u001b[1;34m(self, input, timeout)\u001b[0m\n\u001b[0;32m   1053\u001b[0m                 \u001b[0mself\u001b[0m\u001b[1;33m.\u001b[0m\u001b[0m_stdin_write\u001b[0m\u001b[1;33m(\u001b[0m\u001b[0minput\u001b[0m\u001b[1;33m)\u001b[0m\u001b[1;33m\u001b[0m\u001b[0m\n\u001b[0;32m   1054\u001b[0m             \u001b[1;32melif\u001b[0m \u001b[0mself\u001b[0m\u001b[1;33m.\u001b[0m\u001b[0mstdout\u001b[0m\u001b[1;33m:\u001b[0m\u001b[1;33m\u001b[0m\u001b[0m\n\u001b[1;32m-> 1055\u001b[1;33m                 \u001b[0mstdout\u001b[0m \u001b[1;33m=\u001b[0m \u001b[0mself\u001b[0m\u001b[1;33m.\u001b[0m\u001b[0mstdout\u001b[0m\u001b[1;33m.\u001b[0m\u001b[0mread\u001b[0m\u001b[1;33m(\u001b[0m\u001b[1;33m)\u001b[0m\u001b[1;33m\u001b[0m\u001b[0m\n\u001b[0m\u001b[0;32m   1056\u001b[0m                 \u001b[0mself\u001b[0m\u001b[1;33m.\u001b[0m\u001b[0mstdout\u001b[0m\u001b[1;33m.\u001b[0m\u001b[0mclose\u001b[0m\u001b[1;33m(\u001b[0m\u001b[1;33m)\u001b[0m\u001b[1;33m\u001b[0m\u001b[0m\n\u001b[0;32m   1057\u001b[0m             \u001b[1;32melif\u001b[0m \u001b[0mself\u001b[0m\u001b[1;33m.\u001b[0m\u001b[0mstderr\u001b[0m\u001b[1;33m:\u001b[0m\u001b[1;33m\u001b[0m\u001b[0m\n",
      "\u001b[1;31mValueError\u001b[0m: read of closed file"
     ]
    }
   ],
   "source": [
    "ifcproc.communicate()\n",
    "if ifcproc.returncode != 0:\n",
    "    print('ERROR running ifcformant with args ', ifcargs)"
   ]
  },
  {
   "cell_type": "markdown",
   "metadata": {},
   "source": [
    "If `ifcformant` exited successfully, then the DataFrame `df` should be filled with measurements. Take a look at the results."
   ]
  },
  {
   "cell_type": "code",
   "execution_count": 125,
   "metadata": {
    "collapsed": false
   },
   "outputs": [
    {
     "data": {
      "text/plain": [
       "sec       1.075000\n",
       "rms    2645.992093\n",
       "f1      441.726977\n",
       "f2     1423.562791\n",
       "f3     2498.030233\n",
       "f4     3434.841860\n",
       "f0      109.912558\n",
       "dtype: float64"
      ]
     },
     "execution_count": 125,
     "metadata": {},
     "output_type": "execute_result"
    }
   ],
   "source": [
    "df.mean()"
   ]
  },
  {
   "cell_type": "code",
   "execution_count": null,
   "metadata": {
    "collapsed": false
   },
   "outputs": [],
   "source": []
  }
 ],
 "metadata": {
  "kernelspec": {
   "display_name": "Python 3",
   "language": "python",
   "name": "python3"
  },
  "language_info": {
   "codemirror_mode": {
    "name": "ipython",
    "version": 3
   },
   "file_extension": ".py",
   "mimetype": "text/x-python",
   "name": "python",
   "nbconvert_exporter": "python",
   "pygments_lexer": "ipython3",
   "version": "3.5.1"
  }
 },
 "nbformat": 4,
 "nbformat_minor": 0
}
