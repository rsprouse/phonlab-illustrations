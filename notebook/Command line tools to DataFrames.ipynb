{
 "cells": [
  {
   "cell_type": "markdown",
   "metadata": {},
   "source": [
    "# How to capture the output of command line tools to pandas DataFrames\n",
    "\n",
    "Here's a general problem: How do you run a command line tool and use its output in a script?\n",
    "\n",
    "One useful answer is to use the `subprocess` module to execute the command and then read its output into a pandas DataFrame. We'll illustrate this approach using tools found in the Berkeley Phonetics Machine."
   ]
  },
  {
   "cell_type": "markdown",
   "metadata": {},
   "source": [
    "## Getting started\n",
    "\n",
    "We require three Python modules to perform the tasks, one for running the tools and two for creating DataFrames."
   ]
  },
  {
   "cell_type": "code",
   "execution_count": 126,
   "metadata": {
    "collapsed": true
   },
   "outputs": [],
   "source": [
    "import subprocess       # Used to execute external commands\n",
    "\n",
    "import pandas as pd     # Provides DataFrames\n",
    "from io import StringIO # Converts command outputs to file-like objects\n",
    "                        # that pandas can read."
   ]
  },
  {
   "cell_type": "markdown",
   "metadata": {},
   "source": [
    "The `subprocess` module executes command line tools in the context of a script. In a notebook it is also possible to execute command line tools directly, and in the cells that follow you'll sometimes see a line that begins with `!`. The `!` executes the tool that follows it and displays its output in the cell.\n",
    "\n",
    "This example runs the `ls` command to list the contents of the current directory:"
   ]
  },
  {
   "cell_type": "code",
   "execution_count": 127,
   "metadata": {
    "collapsed": false
   },
   "outputs": [
    {
     "name": "stdout",
     "output_type": "stream",
     "text": [
      "Command line tools to DataFrames.ipynb\r\n"
     ]
    }
   ],
   "source": [
    "!ls"
   ]
  },
  {
   "cell_type": "markdown",
   "metadata": {},
   "source": [
    "Options and arguments can be provided in the same way as they are at the command line:"
   ]
  },
  {
   "cell_type": "code",
   "execution_count": 128,
   "metadata": {
    "collapsed": false
   },
   "outputs": [
    {
     "name": "stdout",
     "output_type": "stream",
     "text": [
      "total 28\r\n",
      "drwxrwxr-x 3 ubuntu ubuntu  4096 Sep 21 20:54 .\r\n",
      "drwxrwxr-x 5 ubuntu ubuntu  4096 Sep 21 13:46 ..\r\n",
      "-rw-rw-r-- 1 ubuntu ubuntu 12646 Sep 21 20:54 Command line tools to DataFrames.ipynb\r\n",
      "drwxr-xr-x 2 ubuntu ubuntu  4096 Sep 21 13:37 .ipynb_checkpoints\r\n"
     ]
    }
   ],
   "source": [
    "!ls -al"
   ]
  },
  {
   "cell_type": "markdown",
   "metadata": {},
   "source": [
    "### Piping the output of one command to the input of another\n",
    "\n",
    "It is possible to combine commands into a series, where the output of one command is used as the input of another command. These series can be used to create more complicated behaviors from a set of simple tools. For example, the `echo` command simply outputs its arguments as a string. Notice in this example that the `\\n` represents the newline character and  the '2' and '1' appear on separate lines:"
   ]
  },
  {
   "cell_type": "code",
   "execution_count": 129,
   "metadata": {
    "collapsed": false
   },
   "outputs": [
    {
     "name": "stdout",
     "output_type": "stream",
     "text": [
      "2\r\n",
      "1\r\n"
     ]
    }
   ],
   "source": [
    "!echo '2\\n1'"
   ]
  },
  {
   "cell_type": "markdown",
   "metadata": {},
   "source": [
    "Now we'll make things slightly more complicated by piping to the `sort` command, which sorts input lines and prints out the result. The pipe symbol `|` is used to link the output of the first command (aka STDOUT) to the input of the second (aka STDIN), and the two lines produced by `echo` become the input to `sort`:"
   ]
  },
  {
   "cell_type": "code",
   "execution_count": 130,
   "metadata": {
    "collapsed": false
   },
   "outputs": [
    {
     "name": "stdout",
     "output_type": "stream",
     "text": [
      "1\r\n",
      "2\r\n"
     ]
    }
   ],
   "source": [
    "!echo '2\\n1' | sort"
   ]
  },
  {
   "cell_type": "markdown",
   "metadata": {},
   "source": [
    "The lines are now ordered."
   ]
  },
  {
   "cell_type": "markdown",
   "metadata": {},
   "source": [
    "## ifcformant\n",
    "\n",
    "The first tool we'll look at is `ifcformant`, which performs formant analysis on an input audio file.\n",
    "\n",
    "For a basic description of `ifcformant` see http://linguistics.berkeley.edu/plab/guestwiki/index.php?title=IFC_formant_tracker or do `ifcformant --help`."
   ]
  },
  {
   "cell_type": "markdown",
   "metadata": {},
   "source": [
    "It's always important to understand what kind of outputs your tools create. Execute `ifcformant` directly and observe what it produces."
   ]
  },
  {
   "cell_type": "code",
   "execution_count": 131,
   "metadata": {
    "collapsed": false
   },
   "outputs": [
    {
     "name": "stdout",
     "output_type": "stream",
     "text": [
      "sec\trms\tf1\tf2\tf3\tf4\tf0\n",
      "0.0050\t96.5\t264.6\t1456.6\t3314.5\t3694.6\t255.3\n",
      "0.0150\t60.1\t259.2\t1327.6\t3376.1\t3790.2\t0.0\n",
      "0.0250\t49.5\t271.7\t1100.8\t2774.3\t3632.4\t69.8\n",
      "0.0350\t49.5\t249.0\t1084.6\t2689.8\t3568.3\t69.8\n",
      "0.0450\t75.5\t234.6\t1401.1\t3068.3\t3454.2\t85.7\n",
      "0.0550\t429.1\t327.8\t1572.1\t3163.7\t3474.9\t352.9\n",
      "0.0650\t817.1\t359.9\t1645.9\t2800.7\t3499.2\t0.0\n",
      "0.0750\t1152.5\t356.5\t1617.0\t2601.8\t3450.1\t0.0\n",
      "0.0850\t1152.5\t350.3\t1597.6\t2460.5\t3472.1\t106.2\n",
      "0.0950\t1192.9\t362.9\t1595.5\t2467.6\t3526.0\t78.4\n",
      "0.1050\t1286.3\t352.8\t1577.0\t2439.2\t3523.1\t80.5\n",
      "0.1150\t1363.7\t334.8\t1641.5\t2429.4\t3512.3\t79.6\n",
      "0.1250\t1363.7\t329.7\t1622.6\t2476.5\t3534.8\t77.6\n",
      "0.1350\t1231.4\t319.4\t1638.6\t2556.7\t3551.9\t78.2\n",
      "0.1450\t1099.3\t343.2\t1221.1\t2352.4\t3482.1\t79.5\n",
      "0.1550\t1019.9\t325.6\t1310.1\t2398.8\t3558.2\t79.3\n",
      "0.1650\t839.0\t307.2\t1616.7\t2422.4\t3564.1\t80.5\n",
      "0.1750\t497.3\t275.2\t1659.6\t2433.8\t3522.7\t78.7\n",
      "0.1850\t405.2\t289.0\t1511.5\t2386.6\t3410.9\t77.6\n",
      "0.1950\t394.5\t343.5\t1279.6\t2346.5\t3431.3\t0.0\n",
      "0.2050\t245.6\t363.5\t1394.9\t2364.8\t3507.0\t149.2\n",
      "0.2150\t134.5\t335.9\t1588.0\t2456.4\t3767.7\t158.8\n",
      "0.2250\t95.9\t305.8\t1678.3\t2535.5\t3755.3\t71.1\n",
      "0.2350\t77.2\t349.2\t1696.3\t2462.8\t3698.2\t0.0\n",
      "0.2450\t77.2\t306.0\t1675.7\t2345.9\t3758.3\t190.5\n",
      "0.2550\t81.0\t689.4\t1731.1\t2382.7\t3709.1\t240.0\n",
      "0.2650\t746.7\t611.9\t1707.1\t2606.4\t3640.9\t0.0\n",
      "0.2750\t1241.5\t353.1\t1659.0\t3242.3\t3620.1\t0.0\n",
      "0.2850\t1241.5\t319.9\t1701.9\t3431.8\t3528.2\t0.0\n",
      "0.2950\t1064.7\t302.3\t1750.2\t2472.5\t3635.7\t0.0\n",
      "0.3050\t877.2\t469.8\t1761.9\t2451.8\t3566.0\t0.0\n",
      "0.3150\t609.8\t416.8\t1746.2\t2511.4\t3481.6\t89.6\n",
      "0.3250\t609.8\t291.7\t1703.1\t2422.4\t3466.0\t200.0\n",
      "0.3350\t3823.5\t333.2\t1660.4\t2292.1\t3397.2\t169.0\n",
      "0.3450\t6322.6\t311.8\t1645.1\t2227.8\t3279.4\t0.0\n",
      "0.3550\t7101.8\t318.1\t1634.8\t2257.8\t3265.5\t0.0\n",
      "0.3650\t7281.4\t299.2\t1627.4\t2225.1\t3264.6\t230.8\n",
      "0.3750\t7975.3\t271.6\t1614.9\t2211.1\t3254.5\t117.6\n",
      "0.3850\t7975.3\t252.3\t1585.4\t2208.6\t3255.2\t115.5\n",
      "0.3950\t7428.4\t262.0\t1557.7\t2273.7\t3223.6\t115.4\n",
      "0.4050\t7053.5\t262.3\t1460.1\t2291.0\t3193.9\t115.2\n",
      "0.4150\t6686.0\t258.6\t1356.7\t2273.0\t3215.5\t115.6\n",
      "0.4250\t5676.7\t246.0\t1293.5\t2240.8\t3239.1\t116.8\n",
      "0.4350\t3673.0\t257.4\t1556.9\t2273.6\t3287.7\t117.7\n",
      "0.4450\t1767.3\t277.3\t1672.1\t2366.6\t3354.5\t115.3\n",
      "0.4550\t1162.2\t269.4\t1486.9\t2401.6\t3296.0\t112.4\n",
      "0.4650\t990.8\t236.0\t1557.0\t2331.0\t3310.2\t63.5\n",
      "0.4750\t767.0\t249.8\t1492.7\t2143.6\t3385.9\t64.2\n",
      "0.4850\t712.7\t244.2\t1489.1\t2336.1\t3453.3\t113.9\n",
      "0.4950\t712.7\t236.8\t1343.4\t2333.8\t3429.7\t116.5\n",
      "0.5050\t753.0\t238.4\t1254.6\t2424.3\t3404.3\t239.5\n",
      "0.5150\t753.0\t809.4\t1454.8\t3043.7\t3446.6\t227.8\n",
      "0.5250\t716.3\t474.4\t1253.8\t2868.5\t3508.8\t239.0\n",
      "0.5350\t477.7\t506.1\t1279.2\t3358.4\t3439.2\t226.4\n",
      "0.5450\t355.6\t549.9\t1340.3\t2231.8\t3673.7\t226.4\n",
      "0.5550\t355.6\t619.3\t1173.9\t2323.8\t3725.3\t76.4\n",
      "0.5650\t658.2\t839.8\t1232.5\t2294.6\t3727.9\t240.0\n",
      "0.5750\t2844.5\t439.7\t1192.5\t2406.5\t3643.1\t260.9\n",
      "0.5850\t5021.1\t455.6\t1123.4\t2347.3\t3651.7\t0.0\n",
      "0.5950\t6367.6\t493.0\t1143.3\t2305.9\t3630.3\t0.0\n",
      "0.6050\t7262.9\t496.5\t1152.4\t2294.1\t3574.5\t111.1\n",
      "0.6150\t8603.7\t506.5\t1195.8\t2300.7\t3512.3\t107.5\n",
      "0.6250\t9510.0\t507.1\t1227.8\t2287.5\t3349.6\t103.3\n",
      "0.6350\t9510.0\t501.6\t1254.0\t2289.6\t3272.9\t100.3\n",
      "0.6450\t8814.8\t492.8\t1263.0\t2309.4\t3360.4\t98.9\n",
      "0.6550\t8166.8\t475.7\t1259.7\t2301.7\t3422.2\t97.8\n",
      "0.6650\t7342.0\t502.8\t1246.1\t2328.0\t3541.4\t97.4\n",
      "0.6750\t5883.3\t520.1\t1286.2\t2352.1\t3599.4\t97.4\n",
      "0.6850\t4111.5\t558.5\t1338.9\t2369.8\t3594.0\t97.1\n",
      "0.6950\t2381.7\t579.0\t1355.1\t2374.8\t3626.8\t96.5\n",
      "0.7050\t1285.0\t576.9\t1336.1\t2449.7\t3701.5\t95.0\n",
      "0.7150\t1238.6\t616.7\t1357.1\t2853.9\t3750.3\t94.2\n",
      "0.7250\t1238.6\t688.0\t1509.6\t3157.5\t3794.4\t96.6\n",
      "0.7350\t1432.1\t671.8\t1804.1\t3388.0\t3809.2\t97.6\n",
      "0.7450\t1759.3\t621.8\t1583.1\t3451.6\t3882.4\t96.0\n",
      "0.7550\t1922.3\t582.4\t1574.9\t3357.0\t3874.2\t266.7\n",
      "0.7650\t1941.2\t452.2\t1457.1\t3398.6\t3881.3\t146.3\n",
      "0.7750\t2554.3\t816.1\t1532.6\t3380.4\t3880.1\t0.0\n",
      "0.7850\t2554.3\t706.2\t1627.8\t3406.0\t3860.7\t0.0\n",
      "0.7950\t2368.9\t410.2\t1669.8\t3444.4\t3743.6\t0.0\n",
      "0.8050\t1484.6\t702.5\t1661.2\t3521.9\t3553.2\t333.3\n",
      "0.8150\t759.6\t624.9\t1703.9\t3332.7\t3659.9\t96.0\n",
      "0.8250\t334.6\t528.6\t1739.0\t3238.2\t3685.9\t113.2\n",
      "0.8350\t163.9\t443.6\t1804.7\t3136.6\t3797.6\t103.4\n",
      "0.8450\t123.8\t470.5\t1842.3\t3135.8\t3741.7\t240.0\n",
      "0.8550\t102.8\t530.3\t1808.8\t2964.3\t3671.2\t114.3\n",
      "0.8650\t82.0\t464.9\t1817.4\t2845.0\t3681.6\t307.7\n",
      "0.8750\t77.0\t451.5\t1719.1\t2562.1\t3671.9\t342.9\n",
      "0.8850\t77.0\t519.5\t1794.4\t2602.3\t3672.1\t324.3\n",
      "0.8950\t1268.5\t598.8\t1825.3\t3183.8\t3624.1\t324.3\n",
      "0.9050\t1299.3\t429.1\t1703.7\t3340.3\t3804.6\t0.0\n",
      "0.9150\t1299.3\t474.2\t1697.4\t3308.5\t3747.9\t0.0\n",
      "0.9250\t1057.3\t462.4\t1715.0\t3132.6\t3655.2\t0.0\n",
      "0.9350\t980.1\t332.2\t1735.5\t2975.4\t3624.8\t0.0\n",
      "0.9450\t897.4\t339.2\t1715.8\t2523.8\t3578.3\t0.0\n",
      "0.9550\t837.6\t756.6\t1703.7\t2276.7\t3547.9\t300.0\n",
      "0.9650\t763.5\t350.0\t1721.0\t2480.6\t3556.2\t235.3\n",
      "0.9750\t763.5\t294.0\t1687.1\t2345.5\t3561.0\t0.0\n",
      "0.9850\t3472.5\t320.8\t1687.3\t2269.1\t3472.4\t121.2\n",
      "0.9950\t5300.3\t310.8\t1690.4\t2247.0\t3340.6\t0.0\n",
      "1.0050\t6071.8\t318.4\t1676.7\t2260.2\t3304.5\t0.0\n",
      "1.0150\t6922.3\t308.9\t1644.0\t2243.2\t3328.1\t117.8\n",
      "1.0250\t7973.5\t298.6\t1638.9\t2258.6\t3294.5\t117.4\n",
      "1.0350\t8108.4\t298.1\t1623.7\t2231.8\t3287.0\t116.5\n",
      "1.0450\t8307.1\t299.6\t1603.1\t2211.9\t3339.8\t116.5\n",
      "1.0550\t8396.2\t297.4\t1580.7\t2232.3\t3416.5\t116.1\n",
      "1.0650\t8874.9\t327.6\t1560.1\t2259.6\t3417.3\t113.2\n",
      "1.0750\t9835.1\t330.2\t1532.3\t2234.2\t3375.6\t111.1\n",
      "1.0850\t9835.1\t314.1\t1421.2\t2212.3\t3323.8\t109.1\n",
      "1.0950\t8887.6\t318.8\t1413.4\t2218.7\t3260.4\t103.4\n",
      "1.1050\t6176.0\t337.5\t1371.3\t2216.1\t3239.3\t98.1\n",
      "1.1150\t6176.0\t335.3\t1376.1\t2231.4\t3218.2\t93.2\n",
      "1.1250\t6296.3\t312.1\t1381.7\t2229.7\t3169.2\t85.2\n",
      "1.1350\t7644.2\t317.3\t1362.6\t2219.3\t3196.6\t81.1\n",
      "1.1450\t7644.2\t317.3\t1338.1\t2189.2\t3207.6\t78.1\n",
      "1.1550\t6317.4\t314.0\t1321.3\t2152.4\t3236.6\t76.8\n",
      "1.1650\t6015.1\t311.0\t1307.8\t2234.6\t3247.8\t76.0\n",
      "1.1750\t6015.1\t297.7\t1304.9\t2255.9\t3257.9\t74.1\n",
      "1.1850\t6015.1\t305.5\t1244.5\t2239.2\t3205.6\t73.0\n",
      "1.1950\t5910.4\t302.2\t1228.5\t2286.8\t3216.0\t73.0\n",
      "1.2050\t5176.8\t299.4\t1229.7\t2318.6\t3239.6\t73.9\n",
      "1.2150\t4872.8\t304.4\t1297.5\t2318.8\t3234.0\t75.4\n",
      "1.2250\t4301.6\t314.5\t1364.2\t2295.8\t3258.6\t77.0\n",
      "1.2350\t2760.2\t321.3\t1300.5\t2367.3\t3292.9\t77.3\n",
      "1.2450\t1139.6\t305.1\t1262.2\t2451.6\t3285.2\t78.1\n",
      "1.2550\t594.1\t281.4\t1270.9\t2390.2\t3376.7\t78.9\n",
      "1.2650\t476.9\t314.7\t1245.6\t2292.0\t3254.4\t201.6\n",
      "1.2750\t296.8\t329.8\t1258.2\t2164.7\t3147.6\t76.7\n",
      "1.2850\t288.1\t329.9\t1292.1\t2187.1\t3206.7\t0.0\n",
      "1.2950\t247.7\t353.8\t1319.3\t2290.2\t3284.4\t100.0\n",
      "1.3050\t203.6\t314.3\t1336.3\t2296.9\t3256.1\t102.9\n",
      "1.3150\t159.4\t665.5\t1374.4\t2350.3\t3267.6\t108.9\n",
      "1.3250\t157.8\t345.0\t1382.1\t2363.1\t3286.4\t118.8\n",
      "1.3350\t157.8\t453.1\t1470.6\t2344.0\t3307.7\t82.8\n",
      "1.3450\t174.5\t311.3\t1674.5\t2351.0\t3322.4\t99.0\n",
      "1.3550\t182.9\t365.4\t1679.2\t2357.3\t3256.5\t92.6\n",
      "1.3650\t313.9\t304.8\t1553.2\t2322.9\t3255.7\t96.0\n",
      "1.3750\t798.5\t311.7\t1982.5\t2327.8\t3249.1\t0.0\n",
      "1.3850\t996.0\t330.0\t2026.7\t2349.5\t3259.3\t179.1\n",
      "1.3950\t1171.2\t317.0\t2149.0\t2350.2\t3304.7\t200.0\n",
      "1.4050\t1495.8\t392.3\t2065.4\t2312.1\t3273.6\t104.3\n",
      "1.4150\t1495.8\t322.1\t1999.5\t2279.1\t3289.6\t66.3\n",
      "1.4250\t1102.7\t320.4\t1956.6\t2259.9\t3325.1\t206.9\n",
      "1.4350\t583.4\t336.6\t1813.9\t2268.6\t3332.1\t105.3\n",
      "1.4450\t204.5\t287.1\t1688.8\t2280.2\t3352.6\t68.2\n",
      "1.4550\t194.5\t329.9\t1492.1\t2285.1\t3415.5\t65.4\n",
      "1.4650\t165.3\t353.3\t1275.7\t2252.5\t3561.6\t66.3\n",
      "1.4750\t139.4\t554.1\t1570.7\t2277.6\t3582.8\t63.5\n",
      "1.4850\t139.4\t677.8\t1618.3\t2383.9\t3549.0\t106.9\n",
      "1.4950\t140.9\t673.6\t1378.0\t2298.8\t3511.0\t100.8\n",
      "1.5050\t165.0\t702.3\t1376.5\t2434.0\t3576.2\t150.1\n",
      "1.5150\t175.8\t676.6\t1473.1\t2450.6\t3536.3\t74.5\n",
      "1.5250\t710.3\t649.2\t1631.7\t2451.9\t3456.9\t0.0\n",
      "1.5350\t1887.5\t354.1\t1547.3\t2545.5\t3378.6\t0.0\n",
      "1.5450\t2519.0\t341.7\t705.3\t2356.5\t3341.9\t0.0\n",
      "1.5550\t3017.5\t350.0\t754.2\t2342.7\t3359.0\t0.0\n",
      "1.5650\t3017.5\t321.4\t742.8\t2476.1\t3375.7\t82.0\n",
      "1.5750\t3130.8\t343.5\t804.8\t2632.5\t3413.3\t81.8\n",
      "1.5850\t3130.8\t327.9\t842.4\t2773.2\t3373.7\t80.4\n",
      "1.5950\t3130.8\t340.8\t901.4\t2825.9\t3524.1\t79.8\n",
      "1.6050\t2845.7\t354.4\t1294.0\t2967.7\t3590.4\t79.3\n",
      "1.6150\t1845.0\t320.0\t1213.1\t3074.5\t3637.5\t78.9\n",
      "1.6250\t1007.1\t305.1\t1191.3\t3239.4\t3637.0\t78.0\n",
      "1.6350\t968.2\t429.5\t1177.5\t3270.4\t3632.1\t229.8\n",
      "1.6450\t968.2\t537.6\t1416.9\t3271.1\t3611.1\t244.9\n",
      "1.6550\t1095.5\t551.9\t1544.9\t3267.4\t3568.3\t74.5\n",
      "1.6650\t1156.2\t384.6\t1336.9\t3282.7\t3623.3\t0.0\n",
      "1.6750\t1376.5\t364.4\t1329.3\t3258.5\t3626.9\t255.3\n",
      "1.6850\t1739.5\t581.2\t1314.6\t3285.7\t3551.6\t0.0\n",
      "1.6950\t1741.5\t682.7\t1512.4\t3252.4\t3519.2\t0.0\n",
      "1.7050\t1811.3\t692.1\t1387.8\t3194.6\t3537.9\t0.0\n",
      "1.7150\t1811.3\t516.8\t1358.8\t3183.2\t3526.4\t255.3\n",
      "1.7250\t1299.6\t1104.8\t1474.4\t3144.0\t3524.0\t255.3\n",
      "1.7350\t686.3\t1240.5\t1567.6\t3007.7\t3542.5\t101.7\n",
      "1.7450\t655.3\t1020.4\t1430.9\t2887.4\t3437.3\t413.8\n",
      "1.7550\t561.6\t1068.3\t1401.2\t2854.4\t3458.5\t413.8\n",
      "1.7650\t379.3\t933.1\t1394.5\t2747.2\t3475.7\t315.8\n",
      "1.7750\t237.3\t590.4\t1371.9\t2644.2\t3505.3\t0.0\n",
      "1.7850\t166.8\t648.8\t1512.4\t2841.1\t3572.2\t129.0\n",
      "1.7950\t166.8\t476.0\t1480.1\t2963.2\t3591.4\t0.0\n",
      "1.8050\t321.0\t427.1\t1536.2\t2869.4\t3555.1\t125.0\n",
      "1.8150\t358.2\t684.5\t1589.4\t2549.4\t3492.1\t0.0\n",
      "1.8250\t453.2\t697.5\t1715.6\t2696.3\t3539.1\t363.7\n",
      "1.8350\t491.0\t466.7\t1593.5\t2452.9\t3517.0\t0.0\n",
      "1.8450\t1517.3\t512.9\t1546.2\t2615.8\t3579.9\t352.9\n",
      "1.8550\t3251.0\t405.7\t1152.7\t2453.3\t3448.2\t333.3\n",
      "1.8650\t5646.4\t371.9\t752.8\t2309.1\t3291.1\t0.0\n",
      "1.8750\t7591.3\t455.2\t1201.9\t2125.6\t3165.9\t111.9\n",
      "1.8850\t8764.2\t395.0\t807.1\t1772.8\t3054.6\t318.1\n",
      "1.8950\t9273.7\t385.0\t1138.4\t2020.4\t3073.4\t99.2\n",
      "1.9050\t9273.7\t375.7\t1231.8\t2276.1\t3217.6\t97.3\n",
      "1.9150\t7926.1\t408.3\t1250.8\t2408.5\t3320.3\t94.6\n",
      "1.9250\t6028.4\t478.1\t1321.2\t2408.3\t3345.6\t91.8\n",
      "1.9350\t4946.0\t530.2\t1324.9\t2489.2\t3303.2\t331.1\n",
      "1.9450\t4946.0\t446.1\t1323.6\t2490.8\t3331.7\t86.5\n",
      "1.9550\t5885.9\t376.3\t660.2\t2256.1\t3182.3\t84.2\n",
      "1.9650\t5885.9\t386.0\t690.8\t2240.4\t3218.3\t83.1\n",
      "1.9750\t5969.3\t386.4\t716.2\t2170.9\t3238.3\t80.0\n",
      "1.9850\t5969.3\t411.3\t751.6\t2048.8\t3236.4\t75.9\n",
      "1.9950\t5969.3\t454.5\t779.6\t2042.1\t3162.9\t72.8\n",
      "2.0050\t4065.0\t474.7\t878.9\t2005.8\t3039.9\t72.4\n",
      "2.0150\t2623.3\t485.6\t894.4\t1922.9\t2924.5\t65.8\n",
      "2.0250\t2602.7\t470.2\t869.0\t1811.4\t2889.2\t108.5\n",
      "2.0350\t2164.5\t496.2\t946.7\t1712.1\t3052.4\t64.0\n",
      "2.0450\t1444.3\t543.4\t1028.0\t1673.0\t3126.4\t110.2\n",
      "2.0550\t948.1\t630.2\t1169.9\t1719.4\t3059.9\t164.2\n",
      "2.0650\t928.7\t539.4\t1325.4\t1867.2\t3158.2\t155.9\n",
      "2.0750\t928.7\t544.0\t1157.4\t1543.4\t3190.2\t0.0\n",
      "2.0850\t634.8\t535.8\t1119.1\t1538.5\t3262.1\t114.2\n",
      "2.0950\t629.7\t572.6\t1135.7\t1547.8\t3061.5\t133.1\n",
      "2.1050\t612.5\t684.4\t1187.4\t1489.2\t3059.5\t129.8\n",
      "2.1150\t550.0\t676.4\t1228.3\t1609.7\t3078.8\t0.0\n",
      "2.1250\t511.3\t881.6\t1240.9\t1628.9\t2982.4\t101.5\n",
      "2.1350\t442.6\t951.5\t1254.8\t1654.1\t3177.6\t106.3\n",
      "2.1450\t260.4\t768.5\t1239.6\t1871.3\t3146.8\t107.1\n"
     ]
    }
   ],
   "source": [
    "!ifcformant --speaker male --print-header ../resources/two_plus_two.wav"
   ]
  },
  {
   "cell_type": "markdown",
   "metadata": {},
   "source": [
    "As you can see, `ifcformant` creates a table of measurements at 10ms intervals. We use the `--print-header` option to include the names of the columns as the first row of output.\n",
    "\n",
    "The columns are tab-separated by default. See `ifcformant --help` if you want a different separator."
   ]
  },
  {
   "cell_type": "markdown",
   "metadata": {},
   "source": [
    "### Using `subprocess`\n",
    "\n",
    "Now we use the `subprocess` module to execute `ifcformant`. Start by creating a list of arguments. Notice how the command line we used to run `ifcformant` earlier is split into a list of strings, which is what `subprocess` methods will expect. The `ifcformant` command itself is the first item in the list, and its options and arguments follow."
   ]
  },
  {
   "cell_type": "code",
   "execution_count": 132,
   "metadata": {
    "collapsed": false
   },
   "outputs": [
    {
     "data": {
      "text/plain": [
       "['ifcformant',\n",
       " '--speaker',\n",
       " 'male',\n",
       " '--print-header',\n",
       " '../resources/two_plus_two.wav']"
      ]
     },
     "execution_count": 132,
     "metadata": {},
     "output_type": "execute_result"
    }
   ],
   "source": [
    "ifcargs = [\n",
    "    'ifcformant',\n",
    "    '--speaker',\n",
    "    'male',\n",
    "    '--print-header',\n",
    "    '../resources/two_plus_two.wav'\n",
    "]\n",
    "ifcargs"
   ]
  },
  {
   "cell_type": "markdown",
   "metadata": {},
   "source": [
    "The `check_output()` method executes the command defined by `ifcargs` and returns its output, which is stored in `ifcout`."
   ]
  },
  {
   "cell_type": "code",
   "execution_count": 133,
   "metadata": {
    "collapsed": false
   },
   "outputs": [],
   "source": [
    "try:\n",
    "    ifcout = subprocess.check_output(ifcargs)\n",
    "except subprocess.CalledProcessError:\n",
    "    print('ifcformant failed with args ', ifcargs)"
   ]
  },
  {
   "cell_type": "markdown",
   "metadata": {},
   "source": [
    " `check_output()` also raises an error if execution of the external command results in a failure. The try/except blocks print a useful error message if that occurs. Notice what happens when the arguments to ifcformant are not correct."
   ]
  },
  {
   "cell_type": "code",
   "execution_count": 134,
   "metadata": {
    "collapsed": false
   },
   "outputs": [
    {
     "name": "stdout",
     "output_type": "stream",
     "text": [
      "ifcformant failed with args  ['ifcformant', '--speaker', 'male', 'missing_file']\n"
     ]
    }
   ],
   "source": [
    "badargs = ['ifcformant', '--speaker', 'male', 'missing_file']\n",
    "try:\n",
    "    ifcout = subprocess.check_output(badargs)\n",
    "except subprocess.CalledProcessError:\n",
    "    print('ifcformant failed with args ', badargs)"
   ]
  },
  {
   "cell_type": "markdown",
   "metadata": {},
   "source": [
    "### Reading into a DataFrame\n",
    "\n",
    "The pandas `read_csv()` method is used to read tabular text data into a DataFrame. Often it reads from a real text file, but it can also read from any file-like object. The output captured from `ifcformant` is a series of bytes, which can be converted to a string with `decode()`, and `StringIO` turns a string into a file-like object (one that responds to the `read()` method)."
   ]
  },
  {
   "cell_type": "code",
   "execution_count": 135,
   "metadata": {
    "collapsed": false
   },
   "outputs": [],
   "source": [
    "df = pd.read_csv(\n",
    "    StringIO(                  # make file-like\n",
    "        ifcout.decode('ascii') # convert to string; utf-8 also works\n",
    "    ),\n",
    "    sep='\\t'\n",
    ")"
   ]
  },
  {
   "cell_type": "markdown",
   "metadata": {},
   "source": [
    "When you run external processes with `subprocess` you should *always* check to see whether the command was successful. Now that the output of `ifcformant` has been captured, we use `communicate()` to wait for the process to end, then check its returncode. Standard behavior is for a process to return 0 for success and non-zero values indicate an error.  "
   ]
  },
  {
   "cell_type": "code",
   "execution_count": 136,
   "metadata": {
    "collapsed": false
   },
   "outputs": [
    {
     "ename": "ValueError",
     "evalue": "read of closed file",
     "output_type": "error",
     "traceback": [
      "\u001b[1;31m---------------------------------------------------------------------------\u001b[0m",
      "\u001b[1;31mValueError\u001b[0m                                Traceback (most recent call last)",
      "\u001b[1;32m<ipython-input-136-aff177c510fa>\u001b[0m in \u001b[0;36m<module>\u001b[1;34m()\u001b[0m\n\u001b[1;32m----> 1\u001b[1;33m \u001b[0mifcproc\u001b[0m\u001b[1;33m.\u001b[0m\u001b[0mcommunicate\u001b[0m\u001b[1;33m(\u001b[0m\u001b[1;33m)\u001b[0m\u001b[1;33m\u001b[0m\u001b[0m\n\u001b[0m\u001b[0;32m      2\u001b[0m \u001b[1;32mif\u001b[0m \u001b[0mifcproc\u001b[0m\u001b[1;33m.\u001b[0m\u001b[0mreturncode\u001b[0m \u001b[1;33m!=\u001b[0m \u001b[1;36m0\u001b[0m\u001b[1;33m:\u001b[0m\u001b[1;33m\u001b[0m\u001b[0m\n\u001b[0;32m      3\u001b[0m     \u001b[0mprint\u001b[0m\u001b[1;33m(\u001b[0m\u001b[1;34m'ERROR running ifcformant with args '\u001b[0m\u001b[1;33m,\u001b[0m \u001b[0mifcargs\u001b[0m\u001b[1;33m)\u001b[0m\u001b[1;33m\u001b[0m\u001b[0m\n",
      "\u001b[1;32m/home/ubuntu/miniconda3/lib/python3.5/subprocess.py\u001b[0m in \u001b[0;36mcommunicate\u001b[1;34m(self, input, timeout)\u001b[0m\n\u001b[0;32m   1053\u001b[0m                 \u001b[0mself\u001b[0m\u001b[1;33m.\u001b[0m\u001b[0m_stdin_write\u001b[0m\u001b[1;33m(\u001b[0m\u001b[0minput\u001b[0m\u001b[1;33m)\u001b[0m\u001b[1;33m\u001b[0m\u001b[0m\n\u001b[0;32m   1054\u001b[0m             \u001b[1;32melif\u001b[0m \u001b[0mself\u001b[0m\u001b[1;33m.\u001b[0m\u001b[0mstdout\u001b[0m\u001b[1;33m:\u001b[0m\u001b[1;33m\u001b[0m\u001b[0m\n\u001b[1;32m-> 1055\u001b[1;33m                 \u001b[0mstdout\u001b[0m \u001b[1;33m=\u001b[0m \u001b[0mself\u001b[0m\u001b[1;33m.\u001b[0m\u001b[0mstdout\u001b[0m\u001b[1;33m.\u001b[0m\u001b[0mread\u001b[0m\u001b[1;33m(\u001b[0m\u001b[1;33m)\u001b[0m\u001b[1;33m\u001b[0m\u001b[0m\n\u001b[0m\u001b[0;32m   1056\u001b[0m                 \u001b[0mself\u001b[0m\u001b[1;33m.\u001b[0m\u001b[0mstdout\u001b[0m\u001b[1;33m.\u001b[0m\u001b[0mclose\u001b[0m\u001b[1;33m(\u001b[0m\u001b[1;33m)\u001b[0m\u001b[1;33m\u001b[0m\u001b[0m\n\u001b[0;32m   1057\u001b[0m             \u001b[1;32melif\u001b[0m \u001b[0mself\u001b[0m\u001b[1;33m.\u001b[0m\u001b[0mstderr\u001b[0m\u001b[1;33m:\u001b[0m\u001b[1;33m\u001b[0m\u001b[0m\n",
      "\u001b[1;31mValueError\u001b[0m: read of closed file"
     ]
    }
   ],
   "source": [
    "ifcproc.communicate()\n",
    "if ifcproc.returncode != 0:\n",
    "    print('ERROR running ifcformant with args ', ifcargs)"
   ]
  },
  {
   "cell_type": "markdown",
   "metadata": {},
   "source": [
    "If `ifcformant` exited successfully, then the DataFrame `df` should be filled with measurements. Take a look at the results."
   ]
  },
  {
   "cell_type": "code",
   "execution_count": null,
   "metadata": {
    "collapsed": false
   },
   "outputs": [],
   "source": [
    "df.mean()"
   ]
  },
  {
   "cell_type": "code",
   "execution_count": null,
   "metadata": {
    "collapsed": false
   },
   "outputs": [],
   "source": []
  }
 ],
 "metadata": {
  "kernelspec": {
   "display_name": "Python 3",
   "language": "python",
   "name": "python3"
  },
  "language_info": {
   "codemirror_mode": {
    "name": "ipython",
    "version": 3
   },
   "file_extension": ".py",
   "mimetype": "text/x-python",
   "name": "python",
   "nbconvert_exporter": "python",
   "pygments_lexer": "ipython3",
   "version": "3.5.1"
  }
 },
 "nbformat": 4,
 "nbformat_minor": 0
}
